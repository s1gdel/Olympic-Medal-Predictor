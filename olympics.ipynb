{
 "cells": [
  {
   "cell_type": "code",
   "execution_count": 1,
   "id": "50ccfa1a-761a-4262-8d99-5557fcd05247",
   "metadata": {},
   "outputs": [],
   "source": [
    "import pandas as pd"
   ]
  },
  {
   "cell_type": "code",
   "execution_count": 2,
   "id": "5b6a4f24-178f-4d3e-99cc-7b3263d4f1c9",
   "metadata": {},
   "outputs": [],
   "source": [
    "olympicTeams = pd.read_csv(\"teams.csv\")"
   ]
  },
  {
   "cell_type": "code",
   "execution_count": 3,
   "id": "6c83e29f-660b-4531-a272-6a744a728367",
   "metadata": {
    "scrolled": true
   },
   "outputs": [
    {
     "name": "stdout",
     "output_type": "stream",
     "text": [
      "     team      country  year  events  athletes   age  height  weight  medals  \\\n",
      "0     AFG  Afghanistan  1964       8         8  22.0   161.0    64.2       0   \n",
      "1     AFG  Afghanistan  1968       5         5  23.2   170.2    70.0       0   \n",
      "2     AFG  Afghanistan  1972       8         8  29.0   168.3    63.8       0   \n",
      "3     AFG  Afghanistan  1980      11        11  23.6   168.4    63.2       0   \n",
      "4     AFG  Afghanistan  2004       5         5  18.6   170.8    64.8       0   \n",
      "...   ...          ...   ...     ...       ...   ...     ...     ...     ...   \n",
      "2139  ZIM     Zimbabwe  2000      19        26  25.0   179.0    71.1       0   \n",
      "2140  ZIM     Zimbabwe  2004      11        14  25.1   177.8    70.5       3   \n",
      "2141  ZIM     Zimbabwe  2008      15        16  26.1   171.9    63.7       4   \n",
      "2142  ZIM     Zimbabwe  2012       8         9  27.3   174.4    65.2       0   \n",
      "2143  ZIM     Zimbabwe  2016      13        31  27.5   167.8    62.2       0   \n",
      "\n",
      "      prev_medals  prev_3_medals  \n",
      "0             0.0            0.0  \n",
      "1             0.0            0.0  \n",
      "2             0.0            0.0  \n",
      "3             0.0            0.0  \n",
      "4             0.0            0.0  \n",
      "...           ...            ...  \n",
      "2139          0.0            0.0  \n",
      "2140          0.0            0.0  \n",
      "2141          3.0            1.0  \n",
      "2142          4.0            2.3  \n",
      "2143          0.0            2.3  \n",
      "\n",
      "[2144 rows x 11 columns]\n"
     ]
    }
   ],
   "source": [
    "print(olympicTeams)"
   ]
  },
  {
   "cell_type": "code",
   "execution_count": 4,
   "id": "fd227da1-8165-4593-820b-942a147a456c",
   "metadata": {},
   "outputs": [
    {
     "name": "stdout",
     "output_type": "stream",
     "text": [
      "year            -0.021603\n",
      "events           0.771330\n",
      "athletes         0.840817\n",
      "age              0.025096\n",
      "height           0.141055\n",
      "weight           0.090577\n",
      "medals           1.000000\n",
      "prev_medals      0.920048\n",
      "prev_3_medals    0.918438\n",
      "Name: medals, dtype: float64\n"
     ]
    }
   ],
   "source": [
    "correlation = olympicTeams.drop([\"team\", \"country\"], axis=1).corr()[\"medals\"]\n",
    "print(correlation)"
   ]
  },
  {
   "cell_type": "code",
   "execution_count": null,
   "id": "e425de13-11c6-43d6-b378-a2d3c2fe833d",
   "metadata": {},
   "outputs": [],
   "source": [
    "import seaborn as sns"
   ]
  },
  {
   "cell_type": "code",
   "execution_count": null,
   "id": "b31d4974-0e93-4983-be86-7bf2e9ac0aba",
   "metadata": {
    "scrolled": true
   },
   "outputs": [],
   "source": [
    "sns.lmplot(x=\"athletes\",y=\"medals\", data=olympicTeams,fit_reg=True, ci=None)\n",
    "sns.lmplot(x=\"prev_medals\",y=\"medals\", data=olympicTeams,fit_reg=True, ci=None)\n",
    "sns.lmplot(x=\"prev_3_medals\",y=\"medals\", data=olympicTeams,fit_reg=True, ci=None)\n",
    "##Examples of good linear relationships"
   ]
  },
  {
   "cell_type": "code",
   "execution_count": null,
   "id": "c5ef9fbf-64a6-497e-ada0-1e9d1dea97e2",
   "metadata": {},
   "outputs": [],
   "source": [
    "#Example of bad linear relationship"
   ]
  },
  {
   "cell_type": "code",
   "execution_count": null,
   "id": "cb12b686-0fbd-4541-a0ee-31b96e1a2169",
   "metadata": {},
   "outputs": [],
   "source": [
    "sns.lmplot(x=\"age\", y=\"medals\", data=olympicTeams, fit_reg=True, ci=0)\n"
   ]
  },
  {
   "cell_type": "code",
   "execution_count": null,
   "id": "5647d046-ed02-4ae0-8b51-2220eca8692d",
   "metadata": {},
   "outputs": [],
   "source": [
    "olympicTeams.plot.hist(y=\"medals\")\n",
    "# Most countries have earned few medals while few have earned greater than 100\n",
    "# This may affect how accurate our model is for countries with few medals won"
   ]
  },
  {
   "cell_type": "code",
   "execution_count": null,
   "id": "6cb03a31-a789-4779-994f-43df722d2eaa",
   "metadata": {},
   "outputs": [],
   "source": [
    "olympicTeams[olympicTeams.isnull().any(axis=1)].head(20)"
   ]
  },
  {
   "cell_type": "code",
   "execution_count": null,
   "id": "179993a5-25c7-46a5-b6fe-c9dac8922760",
   "metadata": {},
   "outputs": [],
   "source": [
    "#remove any teams without data\n",
    "olympicTeams = olympicTeams.dropna()"
   ]
  },
  {
   "cell_type": "code",
   "execution_count": null,
   "id": "af68aa31-513b-437c-9a9e-ff3e895a5ec3",
   "metadata": {
    "scrolled": true
   },
   "outputs": [],
   "source": [
    "olympicTeams"
   ]
  },
  {
   "cell_type": "code",
   "execution_count": null,
   "id": "1aed15ac-316c-4437-94e2-a1f227ba54e0",
   "metadata": {},
   "outputs": [],
   "source": [
    "#training and testing data w/80-20 split\n",
    "train = olympicTeams[olympicTeams[\"year\"] < 2012].copy()\n",
    "test = olympicTeams[olympicTeams[\"year\"] >=2012].copy()"
   ]
  },
  {
   "cell_type": "code",
   "execution_count": null,
   "id": "800c9bce-05cb-4fbe-baba-4a2e93922cb0",
   "metadata": {},
   "outputs": [],
   "source": [
    "train.shape"
   ]
  },
  {
   "cell_type": "code",
   "execution_count": null,
   "id": "7c8ba891-b9c9-4c2b-ad1f-89f88f4e5376",
   "metadata": {
    "scrolled": true
   },
   "outputs": [],
   "source": [
    "test.shape"
   ]
  },
  {
   "cell_type": "code",
   "execution_count": null,
   "id": "082431ed-bffd-4b00-8a2e-fb2e4a64b9ab",
   "metadata": {},
   "outputs": [],
   "source": [
    "from sklearn.linear_model import LinearRegression\n",
    "regression = LinearRegression()"
   ]
  },
  {
   "cell_type": "code",
   "execution_count": null,
   "id": "529d9189-813e-4b1f-a60a-e138b09f1902",
   "metadata": {},
   "outputs": [],
   "source": [
    "predictors = [\"athletes\",\"prev_medals\",\"athletes\"]\n",
    "target = \"medals\""
   ]
  },
  {
   "cell_type": "code",
   "execution_count": null,
   "id": "19536489-55c6-4e4e-b9f5-a02e58ef7707",
   "metadata": {},
   "outputs": [],
   "source": [
    "regression.fit(train[predictors], train[\"medals\"])"
   ]
  },
  {
   "cell_type": "code",
   "execution_count": null,
   "id": "9e3c87f0-cdbe-4f1e-969b-f9a932d973d2",
   "metadata": {},
   "outputs": [],
   "source": [
    "predictions = regression.predict(test[predictors])"
   ]
  },
  {
   "cell_type": "code",
   "execution_count": null,
   "id": "8cdaf4d8-e8d7-45c1-8b60-ca993d12df17",
   "metadata": {},
   "outputs": [],
   "source": [
    "predictions"
   ]
  },
  {
   "cell_type": "code",
   "execution_count": null,
   "id": "7add8286-964f-4cb1-8314-2ac27a9cdb2e",
   "metadata": {},
   "outputs": [],
   "source": [
    "test[\"predictions\"] = predictions"
   ]
  },
  {
   "cell_type": "code",
   "execution_count": null,
   "id": "a259ff5c-2570-4185-9bdf-619e26be97e1",
   "metadata": {},
   "outputs": [],
   "source": [
    "test"
   ]
  },
  {
   "cell_type": "code",
   "execution_count": null,
   "id": "a0c565a5-0012-454d-bb8d-b19d8ee26198",
   "metadata": {
    "scrolled": true
   },
   "outputs": [],
   "source": [
    "test.loc[test[\"predictions\"] < 0, \"predictions\"] = 0"
   ]
  },
  {
   "cell_type": "code",
   "execution_count": null,
   "id": "82072c3e-0a85-418e-b97b-ef9538be7b84",
   "metadata": {},
   "outputs": [],
   "source": [
    "test[\"predictions\"] = test[\"predictions\"].round()"
   ]
  },
  {
   "cell_type": "code",
   "execution_count": null,
   "id": "01006f1e-bc25-4254-a734-be1f48c0dd1f",
   "metadata": {},
   "outputs": [],
   "source": [
    "test"
   ]
  },
  {
   "cell_type": "code",
   "execution_count": null,
   "id": "7ce0e8cd-ddc8-46aa-a8e4-b5079f5fc32b",
   "metadata": {},
   "outputs": [],
   "source": [
    "from sklearn.metrics import mean_absolute_error"
   ]
  },
  {
   "cell_type": "code",
   "execution_count": null,
   "id": "a577085e-7395-437c-a267-51fc6bc51ef2",
   "metadata": {},
   "outputs": [],
   "source": [
    "error = mean_absolute_error(test[\"medals\"],test[\"predictions\"])"
   ]
  },
  {
   "cell_type": "code",
   "execution_count": null,
   "id": "0f9278ee-9042-4ed9-abe7-22107566ffa9",
   "metadata": {},
   "outputs": [],
   "source": [
    "error"
   ]
  },
  {
   "cell_type": "code",
   "execution_count": null,
   "id": "aa0efa43-4fde-44a6-8bb3-1ce0fe65b11c",
   "metadata": {},
   "outputs": [],
   "source": [
    "olympicTeams.describe()[\"medals\"]"
   ]
  },
  {
   "cell_type": "code",
   "execution_count": null,
   "id": "5e3e984d-92ee-4ea1-8937-4ad75cdfeba8",
   "metadata": {
    "scrolled": true
   },
   "outputs": [],
   "source": [
    "test[test[\"team\"] == \"USA\"]"
   ]
  },
  {
   "cell_type": "code",
   "execution_count": null,
   "id": "9f5c3b70-aeeb-4c79-9d8e-4ac5c62c673b",
   "metadata": {},
   "outputs": [],
   "source": [
    "test[test[\"team\"] == \"IRI\"]"
   ]
  },
  {
   "cell_type": "code",
   "execution_count": null,
   "id": "17d42939-0827-4d6a-bc8c-48cc3083067e",
   "metadata": {},
   "outputs": [],
   "source": [
    "errors = (test[\"medals\"] - test[\"predictions\"]).abs()"
   ]
  },
  {
   "cell_type": "code",
   "execution_count": null,
   "id": "0f6e27a1-41c1-41a8-855b-32d215da9d06",
   "metadata": {},
   "outputs": [],
   "source": [
    "errors"
   ]
  },
  {
   "cell_type": "code",
   "execution_count": null,
   "id": "0b103131-76ae-4690-bd5d-27760fe749f1",
   "metadata": {},
   "outputs": [],
   "source": [
    "error_by_team = errors.groupby(test[\"team\"]).mean()"
   ]
  },
  {
   "cell_type": "code",
   "execution_count": null,
   "id": "0370daeb-0728-43d0-babe-93ff37cc7b64",
   "metadata": {},
   "outputs": [],
   "source": [
    "error_by_team"
   ]
  },
  {
   "cell_type": "code",
   "execution_count": null,
   "id": "f7cbfa45-915f-433a-b7f9-ce495f7a2489",
   "metadata": {},
   "outputs": [],
   "source": [
    "medals_by_team = test[\"medals\"].groupby(test[\"team\"]).mean()"
   ]
  },
  {
   "cell_type": "code",
   "execution_count": null,
   "id": "00d868a9-cbea-4e22-88a7-f9ae8d2c797f",
   "metadata": {},
   "outputs": [],
   "source": [
    "errorRatio = error_by_team / medals_by_team"
   ]
  },
  {
   "cell_type": "code",
   "execution_count": null,
   "id": "850c0c87-c482-4865-86cf-c5e376836471",
   "metadata": {},
   "outputs": [],
   "source": [
    "errorRatio"
   ]
  },
  {
   "cell_type": "code",
   "execution_count": null,
   "id": "81ae8011-57e3-4a06-a8fe-372b1a91a4e5",
   "metadata": {},
   "outputs": [],
   "source": [
    "errorRatio[~pd.isnull(errorRatio)]"
   ]
  },
  {
   "cell_type": "code",
   "execution_count": null,
   "id": "dc640183-7a65-479f-952d-f2c4b9aade4a",
   "metadata": {},
   "outputs": [],
   "source": [
    "import numpy as np\n",
    "errorRatio = errorRatio[np.isfinite(errorRatio)]"
   ]
  },
  {
   "cell_type": "code",
   "execution_count": null,
   "id": "50182666-1b37-40e6-b863-62ca3d03e025",
   "metadata": {},
   "outputs": [],
   "source": [
    "errorRatio"
   ]
  },
  {
   "cell_type": "code",
   "execution_count": null,
   "id": "f16c4660-2d2f-40a6-8b8d-e01f1a53be81",
   "metadata": {},
   "outputs": [],
   "source": [
    "errorRatio.plot.hist()"
   ]
  },
  {
   "cell_type": "code",
   "execution_count": null,
   "id": "a1f39de9-7dba-4100-8f65-823f5fb01a49",
   "metadata": {},
   "outputs": [],
   "source": [
    "errorRatio.sort_values()"
   ]
  },
  {
   "cell_type": "code",
   "execution_count": null,
   "id": "030a1ade-da62-4bee-9208-85e670ede85c",
   "metadata": {},
   "outputs": [],
   "source": [
    "#We can conclude that this model is effective for predicting medals for countries that: \n",
    "#particiapte in high number of events and have a high medal count"
   ]
  },
  {
   "cell_type": "code",
   "execution_count": null,
   "id": "8eed6be7-2493-42c5-82c3-a01f55abd1ca",
   "metadata": {},
   "outputs": [],
   "source": [
    "##Linear Regression"
   ]
  },
  {
   "cell_type": "code",
   "execution_count": null,
   "id": "2e117833-6656-468d-8305-fab06ee359f1",
   "metadata": {},
   "outputs": [],
   "source": [
    "train = olympicTeams.loc[(olympicTeams[\"year\"] < 2012) & (olympicTeams[\"medals\"]<10) ]\n",
    "test = olympicTeams.loc[(olympicTeams[\"year\"] >= 2016) & (olympicTeams[\"medals\"]<10) ]"
   ]
  },
  {
   "cell_type": "code",
   "execution_count": null,
   "id": "dbab4687-3885-42c2-bc78-9ca55accb8bd",
   "metadata": {},
   "outputs": [],
   "source": [
    "model = LinearRegression()"
   ]
  },
  {
   "cell_type": "code",
   "execution_count": null,
   "id": "ea3bf5ad-c52e-413a-a3d3-65bb435be860",
   "metadata": {},
   "outputs": [],
   "source": [
    "x_train = train.drop(columns=[\"medals\",\"country\",\"team\",\"age\"])\n",
    "y_train = train['medals']\n",
    "x_test = test.drop(columns=[\"medals\",\"country\",\"team\",\"age\"])\n",
    "y_test = test['medals']"
   ]
  },
  {
   "cell_type": "code",
   "execution_count": null,
   "id": "d438a182-403e-4824-a40e-6fead5489428",
   "metadata": {},
   "outputs": [],
   "source": [
    "x_train.shape\n",
    "y_train.shape"
   ]
  },
  {
   "cell_type": "code",
   "execution_count": null,
   "id": "81762b75-ad16-4796-843a-2ede4042fca2",
   "metadata": {},
   "outputs": [],
   "source": [
    "model.fit(x_train,y_train)"
   ]
  },
  {
   "cell_type": "code",
   "execution_count": null,
   "id": "1c734d6c-0994-460e-8451-686cfe622468",
   "metadata": {},
   "outputs": [],
   "source": [
    "y_pred=model.predict(x_test)"
   ]
  },
  {
   "cell_type": "code",
   "execution_count": null,
   "id": "db72d810-925f-40fc-9a83-13434e3ed7f1",
   "metadata": {},
   "outputs": [],
   "source": [
    "from sklearn.metrics import mean_squared_error, r2_score\n",
    "\n",
    "# Calculate evaluation metrics\n",
    "mse = mean_squared_error(y_test, y_pred)\n",
    "r2 = r2_score(y_test, y_pred)\n",
    "\n",
    "print(f\"Mean Squared Error: {mse}\")\n",
    "print(f\"R-squared: {r2}\")"
   ]
  },
  {
   "cell_type": "code",
   "execution_count": null,
   "id": "8f139ee0-6f9c-4b6d-993e-ea4f17e3aee5",
   "metadata": {},
   "outputs": [],
   "source": [
    "'''The model demonstrates relatively low error with an MSE of 1.88%, indicating that predictions are generally close to the actual values. \n",
    "However, with an R-squared of 58%, there is still significant unexplained variance (42%), \n",
    "suggesting that additional factors or features might improve the model's ability to predict Olympic medal outcomes more accurately.'''"
   ]
  },
  {
   "cell_type": "code",
   "execution_count": null,
   "id": "264cde5b-d950-4f55-b2f6-3ba7001d8b93",
   "metadata": {},
   "outputs": [],
   "source": [
    "results =pd.DataFrame( {\n",
    "    'Actual': y_test,\n",
    "    'Predicted': y_pred\n",
    "})"
   ]
  },
  {
   "cell_type": "code",
   "execution_count": null,
   "id": "5b552485-a3ab-45e5-901b-6e240a0b3e64",
   "metadata": {},
   "outputs": [],
   "source": [
    "sns.lmplot(x='Predicted',y='Actual',data=results,fit_reg=True,ci=None)"
   ]
  },
  {
   "cell_type": "code",
   "execution_count": null,
   "id": "5a20af43-fe54-45e9-a87b-8569a6460879",
   "metadata": {},
   "outputs": [],
   "source": []
  },
  {
   "cell_type": "code",
   "execution_count": null,
   "id": "1ebc0bd3-f094-43ea-be6c-11fbb252f303",
   "metadata": {},
   "outputs": [],
   "source": []
  }
 ],
 "metadata": {
  "kernelspec": {
   "display_name": "Python 3 (ipykernel)",
   "language": "python",
   "name": "python3"
  },
  "language_info": {
   "codemirror_mode": {
    "name": "ipython",
    "version": 3
   },
   "file_extension": ".py",
   "mimetype": "text/x-python",
   "name": "python",
   "nbconvert_exporter": "python",
   "pygments_lexer": "ipython3",
   "version": "3.12.4"
  }
 },
 "nbformat": 4,
 "nbformat_minor": 5
}
